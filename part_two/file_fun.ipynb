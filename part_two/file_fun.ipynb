{
 "cells": [
  {
   "cell_type": "markdown",
   "id": "97659cea-d7a9-4193-87ba-f171f75ad9ac",
   "metadata": {},
   "source": [
    "Final Project GRAD5100\n",
    "\n",
    "Salisa Almeida"
   ]
  },
  {
   "cell_type": "markdown",
   "id": "f3f91f01-826c-4f73-9e3d-cff6223fea93",
   "metadata": {},
   "source": [
    "PART 2"
   ]
  },
  {
   "cell_type": "markdown",
   "id": "84e94975-c41a-4515-93a0-c4c00b04dc50",
   "metadata": {},
   "source": [
    "DATA CLEANING"
   ]
  },
  {
   "cell_type": "code",
   "execution_count": 1,
   "id": "bd8eae07-3b02-413e-9ac4-c5df360891a0",
   "metadata": {
    "tags": []
   },
   "outputs": [
    {
     "name": "stdout",
     "output_type": "stream",
     "text": [
      "YLTRR.csv\n"
     ]
    }
   ],
   "source": [
    "def extract_code_and_extension(input_string):\n",
    "    # Split the input string using '_' as the delimiter\n",
    "    parts = input_string.split('_')\n",
    "\n",
    "    # Extract the alphabetic code and extension\n",
    "    alphabetic_code = parts[1]\n",
    "    extension = parts[2]\n",
    "\n",
    "    # Combine alphabetic code and extension\n",
    "    result = f\"{alphabetic_code}.{extension}\"\n",
    "\n",
    "    return result\n",
    "\n",
    "# Example usage:\n",
    "input_string = '35538_YLTRR_csv'\n",
    "result = extract_code_and_extension(input_string)\n",
    "print(result)\n"
   ]
  },
  {
   "cell_type": "code",
   "execution_count": 2,
   "id": "ba26a3b3-9fa7-4e57-89cf-91b93beeec88",
   "metadata": {
    "tags": []
   },
   "outputs": [
    {
     "name": "stdout",
     "output_type": "stream",
     "text": [
      "ZCOPM.py\n",
      "WREZP.py\n",
      "BOCOV.txt\n",
      "TRNPP.txt\n",
      "PXFVT.py\n",
      "NQLMN.py\n",
      "JOIBU.txt\n",
      "XAGTS.py\n",
      "ICOSX.py\n",
      "ORWMC.py\n",
      "LRCWT.txt\n",
      "JTANV.py\n",
      "MTNKQ.py\n",
      "SFUAN.txt\n",
      "AINQQ.py\n",
      "BRITJ.txt\n",
      "CVVAW.txt\n",
      "EEYIX.csv\n",
      "YUPAG.txt\n",
      "VVKWW.py\n",
      "WDNBE.txt\n",
      "RHAYN.py\n",
      "OFDGE.txt\n",
      "XSMJD.txt\n",
      "ECXJA.csv\n",
      "FFXUT.py\n",
      "AHKAM.csv\n",
      "OIJJU.txt\n",
      "NJSBK.txt\n",
      "GJPTS.csv\n",
      "OAUWT.txt\n",
      "JQNZU.csv\n",
      "RNFVB.csv\n",
      "APZTE.py\n",
      "BUIAR.txt\n",
      "GGHZL.txt\n",
      "UYHCG.csv\n",
      "GSRFM.txt\n",
      "CGOHK.py\n",
      "UEUTJ.csv\n",
      "BXXNW.csv\n",
      "YNOGN.txt\n",
      "TTGSR.txt\n",
      "DHACA.csv\n",
      "XKLIA.csv\n",
      "CDUFO.csv\n",
      "LYRQF.txt\n",
      "LZCWS.txt\n",
      "KTWBT.txt\n",
      "BCTOB.txt\n"
     ]
    }
   ],
   "source": [
    "# Read codes from codes.txt\n",
    "with open('codes.txt', 'r') as file:\n",
    "    codes = [line.strip() for line in file]\n",
    "\n",
    "# Apply the function to each code\n",
    "result_strings = [extract_code_and_extension(code) for code in codes]\n",
    "\n",
    "# Print or use the results as needed\n",
    "for result in result_strings:\n",
    "    print(result)\n"
   ]
  },
  {
   "cell_type": "code",
   "execution_count": 3,
   "id": "25a0190c-935a-4098-b9aa-efce3b821d2d",
   "metadata": {
    "tags": []
   },
   "outputs": [],
   "source": [
    "import os\n",
    "\n",
    "def extract_code_and_extension(input_string):\n",
    "    parts = input_string.split('_')\n",
    "    alphabetic_code = parts[1]\n",
    "    extension = parts[2]\n",
    "    return f\"{alphabetic_code}.{extension}\"\n",
    "\n",
    "# Create 'expanded' subdirectory if it doesn't exist\n",
    "expanded_dir = 'expanded'\n",
    "os.makedirs(expanded_dir, exist_ok=True)\n",
    "\n",
    "# Read codes from codes.txt\n",
    "with open('codes.txt', 'r') as file:\n",
    "    codes = [line.strip() for line in file]\n",
    "\n",
    "# Process each code and write the corresponding 5-digit number to a file\n",
    "for code in codes:\n",
    "    filename = os.path.join(expanded_dir, extract_code_and_extension(code))\n",
    "    number_part = code.split('_')[0]\n",
    "    \n",
    "    with open(filename, 'w') as output_file:\n",
    "        output_file.write(number_part)\n"
   ]
  },
  {
   "cell_type": "code",
   "execution_count": null,
   "id": "ae2d5af4-2a65-4187-bd15-6a41cddf0846",
   "metadata": {},
   "outputs": [],
   "source": []
  }
 ],
 "metadata": {
  "kernelspec": {
   "display_name": "Python 3 (ipykernel)",
   "language": "python",
   "name": "python3"
  },
  "language_info": {
   "codemirror_mode": {
    "name": "ipython",
    "version": 3
   },
   "file_extension": ".py",
   "mimetype": "text/x-python",
   "name": "python",
   "nbconvert_exporter": "python",
   "pygments_lexer": "ipython3",
   "version": "3.11.4"
  }
 },
 "nbformat": 4,
 "nbformat_minor": 5
}
